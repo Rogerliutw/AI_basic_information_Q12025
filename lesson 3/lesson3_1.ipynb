{
 "cells": [
  {
   "cell_type": "markdown",
   "metadata": {},
   "source": [
    "## 純質的運算"
   ]
  },
  {
   "cell_type": "code",
   "execution_count": null,
   "metadata": {},
   "outputs": [
    {
     "data": {
      "text/plain": [
       "25"
      ]
     },
     "execution_count": 7,
     "metadata": {},
     "output_type": "execute_result"
    }
   ],
   "source": [
    "5+10\n",
    "5.0+10\n",
    "int ('15')+ 10"
   ]
  },
  {
   "cell_type": "markdown",
   "metadata": {},
   "source": [
    "## 建立變數"
   ]
  },
  {
   "cell_type": "code",
   "execution_count": null,
   "metadata": {},
   "outputs": [],
   "source": [
    "num1 = 5 + 10\n",
    "num2 = 5.0 +10 \n",
    "num3 = int('15') + 10"
   ]
  },
  {
   "cell_type": "code",
   "execution_count": null,
   "metadata": {},
   "outputs": [
    {
     "name": "stdout",
     "output_type": "stream",
     "text": [
      "15\n",
      "15.0\n",
      "25\n"
     ]
    }
   ],
   "source": [
    "print(num1)\n",
    "print(num2)\n",
    "print(num3)"
   ]
  },
  {
   "cell_type": "markdown",
   "metadata": {},
   "source": [
    "## 變數名稱\n",
    "- 變數名稱第一個字不可以是數字，不能1a，要a1\n",
    "- 變數名稱不可以使用特殊符號$#()% 空格，只能用底線"
   ]
  },
  {
   "cell_type": "code",
   "execution_count": 7,
   "metadata": {},
   "outputs": [
    {
     "data": {
      "text/plain": [
       "15"
      ]
     },
     "execution_count": 7,
     "metadata": {},
     "output_type": "execute_result"
    }
   ],
   "source": [
    "_a1 = 5\n",
    "_a2 = 10\n",
    "_a3 = _a1 + _a2\n",
    "_a3"
   ]
  },
  {
   "cell_type": "markdown",
   "metadata": {},
   "source": [
    "## Python 使用的是動態型別 \n",
    "## (每一個變數，心裡都要知道它的型別，3.10 版以後，有支援型別的提醒)"
   ]
  },
  {
   "cell_type": "code",
   "execution_count": 8,
   "metadata": {},
   "outputs": [
    {
     "name": "stdout",
     "output_type": "stream",
     "text": [
      "<class 'int'>\n",
      "<class 'float'>\n",
      "<class 'str'>\n",
      "<class 'bool'>\n"
     ]
    }
   ],
   "source": [
    "n = 10 \n",
    "type (n)\n",
    "print (type (n))\n",
    "n = 10.0\n",
    "print (type(n))\n",
    "n = '10.0'\n",
    "print (type (n))\n",
    "n = True\n",
    "print (type(n))\n",
    "\n",
    "\n"
   ]
  },
  {
   "cell_type": "markdown",
   "metadata": {},
   "source": [
    "## type hint (型別的提醒)"
   ]
  },
  {
   "cell_type": "code",
   "execution_count": 1,
   "metadata": {},
   "outputs": [
    {
     "name": "stdout",
     "output_type": "stream",
     "text": [
      "10\n",
      "10.0\n",
      "Roger\n",
      "True\n",
      "False\n"
     ]
    }
   ],
   "source": [
    "n: int = 10\n",
    "n1: float = 10.0\n",
    "name: str = 'Roger'\n",
    "is_ok: bool = True\n",
    "not_ok: bool = False\n",
    "\n",
    "print (n)\n",
    "print (n1)\n",
    "print (name)\n",
    "print (is_ok)\n",
    "print (not_ok)"
   ]
  },
  {
   "cell_type": "markdown",
   "metadata": {},
   "source": [
    "## 字串和變數的整合"
   ]
  },
  {
   "cell_type": "code",
   "execution_count": 12,
   "metadata": {},
   "outputs": [
    {
     "data": {
      "text/plain": [
       "'矩形的面積是183.4'"
      ]
     },
     "execution_count": 12,
     "metadata": {},
     "output_type": "execute_result"
    }
   ],
   "source": [
    "width: float = 52.4\n",
    "height: float = 3.5\n",
    "area: float = width * height\n",
    "\n",
    "\"矩形的寬是\" + str (width)\n",
    "\"矩形的高是\" + str (height)\n",
    "\"矩形的面積是\" + str (area)\n"
   ]
  },
  {
   "cell_type": "code",
   "execution_count": 1,
   "metadata": {},
   "outputs": [
    {
     "name": "stdout",
     "output_type": "stream",
     "text": [
      "矩形的寬是52.4\n",
      "矩形的高是3.5\n",
      "矩形的面積是183.4\n"
     ]
    }
   ],
   "source": [
    "width: float = 52.4\n",
    "height: float = 3.5\n",
    "area: float = width * height\n",
    "\n",
    "print (\"矩形的寬是\" + str (width))\n",
    "print (\"矩形的高是\" + str (height))\n",
    "print (\"矩形的面積是\" + str (area))"
   ]
  }
 ],
 "metadata": {
  "kernelspec": {
   "display_name": "Python 3",
   "language": "python",
   "name": "python3"
  },
  "language_info": {
   "codemirror_mode": {
    "name": "ipython",
    "version": 3
   },
   "file_extension": ".py",
   "mimetype": "text/x-python",
   "name": "python",
   "nbconvert_exporter": "python",
   "pygments_lexer": "ipython3",
   "version": "3.10.16"
  }
 },
 "nbformat": 4,
 "nbformat_minor": 2
}
